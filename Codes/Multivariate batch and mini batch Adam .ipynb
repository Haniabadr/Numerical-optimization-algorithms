{
 "cells": [
  {
   "cell_type": "markdown",
   "metadata": {
    "id": "32b92576"
   },
   "source": [
    "## Implementation of multivariate Batch Adam and mini batch Adam optimizers with linear regression from scratch"
   ]
  },
  {
   "cell_type": "code",
   "execution_count": 119,
   "metadata": {
    "id": "0cbf0144"
   },
   "outputs": [],
   "source": [
    "import numpy as np\n",
    "import pandas as pd\n",
    "import matplotlib.pyplot as plt\n",
    "%matplotlib inline"
   ]
  },
  {
   "cell_type": "code",
   "execution_count": 120,
   "metadata": {},
   "outputs": [
    {
     "data": {
      "text/html": [
       "<div>\n",
       "<style scoped>\n",
       "    .dataframe tbody tr th:only-of-type {\n",
       "        vertical-align: middle;\n",
       "    }\n",
       "\n",
       "    .dataframe tbody tr th {\n",
       "        vertical-align: top;\n",
       "    }\n",
       "\n",
       "    .dataframe thead th {\n",
       "        text-align: right;\n",
       "    }\n",
       "</style>\n",
       "<table border=\"1\" class=\"dataframe\">\n",
       "  <thead>\n",
       "    <tr style=\"text-align: right;\">\n",
       "      <th></th>\n",
       "      <th>0</th>\n",
       "      <th>0</th>\n",
       "      <th>1</th>\n",
       "      <th>2</th>\n",
       "      <th>3</th>\n",
       "    </tr>\n",
       "  </thead>\n",
       "  <tbody>\n",
       "    <tr>\n",
       "      <th>0</th>\n",
       "      <td>1</td>\n",
       "      <td>73</td>\n",
       "      <td>80</td>\n",
       "      <td>75</td>\n",
       "      <td>152</td>\n",
       "    </tr>\n",
       "    <tr>\n",
       "      <th>1</th>\n",
       "      <td>1</td>\n",
       "      <td>93</td>\n",
       "      <td>88</td>\n",
       "      <td>93</td>\n",
       "      <td>185</td>\n",
       "    </tr>\n",
       "    <tr>\n",
       "      <th>2</th>\n",
       "      <td>1</td>\n",
       "      <td>89</td>\n",
       "      <td>91</td>\n",
       "      <td>90</td>\n",
       "      <td>180</td>\n",
       "    </tr>\n",
       "    <tr>\n",
       "      <th>3</th>\n",
       "      <td>1</td>\n",
       "      <td>96</td>\n",
       "      <td>98</td>\n",
       "      <td>100</td>\n",
       "      <td>196</td>\n",
       "    </tr>\n",
       "    <tr>\n",
       "      <th>4</th>\n",
       "      <td>1</td>\n",
       "      <td>73</td>\n",
       "      <td>66</td>\n",
       "      <td>70</td>\n",
       "      <td>142</td>\n",
       "    </tr>\n",
       "    <tr>\n",
       "      <th>5</th>\n",
       "      <td>1</td>\n",
       "      <td>53</td>\n",
       "      <td>46</td>\n",
       "      <td>55</td>\n",
       "      <td>101</td>\n",
       "    </tr>\n",
       "    <tr>\n",
       "      <th>6</th>\n",
       "      <td>1</td>\n",
       "      <td>69</td>\n",
       "      <td>74</td>\n",
       "      <td>77</td>\n",
       "      <td>149</td>\n",
       "    </tr>\n",
       "    <tr>\n",
       "      <th>7</th>\n",
       "      <td>1</td>\n",
       "      <td>47</td>\n",
       "      <td>56</td>\n",
       "      <td>60</td>\n",
       "      <td>115</td>\n",
       "    </tr>\n",
       "    <tr>\n",
       "      <th>8</th>\n",
       "      <td>1</td>\n",
       "      <td>87</td>\n",
       "      <td>79</td>\n",
       "      <td>90</td>\n",
       "      <td>175</td>\n",
       "    </tr>\n",
       "    <tr>\n",
       "      <th>9</th>\n",
       "      <td>1</td>\n",
       "      <td>79</td>\n",
       "      <td>70</td>\n",
       "      <td>88</td>\n",
       "      <td>164</td>\n",
       "    </tr>\n",
       "    <tr>\n",
       "      <th>10</th>\n",
       "      <td>1</td>\n",
       "      <td>69</td>\n",
       "      <td>70</td>\n",
       "      <td>73</td>\n",
       "      <td>141</td>\n",
       "    </tr>\n",
       "    <tr>\n",
       "      <th>11</th>\n",
       "      <td>1</td>\n",
       "      <td>70</td>\n",
       "      <td>65</td>\n",
       "      <td>74</td>\n",
       "      <td>141</td>\n",
       "    </tr>\n",
       "    <tr>\n",
       "      <th>12</th>\n",
       "      <td>1</td>\n",
       "      <td>93</td>\n",
       "      <td>95</td>\n",
       "      <td>91</td>\n",
       "      <td>184</td>\n",
       "    </tr>\n",
       "    <tr>\n",
       "      <th>13</th>\n",
       "      <td>1</td>\n",
       "      <td>79</td>\n",
       "      <td>80</td>\n",
       "      <td>73</td>\n",
       "      <td>152</td>\n",
       "    </tr>\n",
       "    <tr>\n",
       "      <th>14</th>\n",
       "      <td>1</td>\n",
       "      <td>70</td>\n",
       "      <td>73</td>\n",
       "      <td>78</td>\n",
       "      <td>148</td>\n",
       "    </tr>\n",
       "    <tr>\n",
       "      <th>15</th>\n",
       "      <td>1</td>\n",
       "      <td>93</td>\n",
       "      <td>89</td>\n",
       "      <td>96</td>\n",
       "      <td>192</td>\n",
       "    </tr>\n",
       "    <tr>\n",
       "      <th>16</th>\n",
       "      <td>1</td>\n",
       "      <td>78</td>\n",
       "      <td>75</td>\n",
       "      <td>68</td>\n",
       "      <td>147</td>\n",
       "    </tr>\n",
       "    <tr>\n",
       "      <th>17</th>\n",
       "      <td>1</td>\n",
       "      <td>81</td>\n",
       "      <td>90</td>\n",
       "      <td>93</td>\n",
       "      <td>183</td>\n",
       "    </tr>\n",
       "    <tr>\n",
       "      <th>18</th>\n",
       "      <td>1</td>\n",
       "      <td>88</td>\n",
       "      <td>92</td>\n",
       "      <td>86</td>\n",
       "      <td>177</td>\n",
       "    </tr>\n",
       "    <tr>\n",
       "      <th>19</th>\n",
       "      <td>1</td>\n",
       "      <td>78</td>\n",
       "      <td>83</td>\n",
       "      <td>77</td>\n",
       "      <td>159</td>\n",
       "    </tr>\n",
       "    <tr>\n",
       "      <th>20</th>\n",
       "      <td>1</td>\n",
       "      <td>82</td>\n",
       "      <td>86</td>\n",
       "      <td>90</td>\n",
       "      <td>177</td>\n",
       "    </tr>\n",
       "    <tr>\n",
       "      <th>21</th>\n",
       "      <td>1</td>\n",
       "      <td>86</td>\n",
       "      <td>82</td>\n",
       "      <td>89</td>\n",
       "      <td>175</td>\n",
       "    </tr>\n",
       "    <tr>\n",
       "      <th>22</th>\n",
       "      <td>1</td>\n",
       "      <td>78</td>\n",
       "      <td>83</td>\n",
       "      <td>85</td>\n",
       "      <td>175</td>\n",
       "    </tr>\n",
       "    <tr>\n",
       "      <th>23</th>\n",
       "      <td>1</td>\n",
       "      <td>76</td>\n",
       "      <td>83</td>\n",
       "      <td>71</td>\n",
       "      <td>149</td>\n",
       "    </tr>\n",
       "    <tr>\n",
       "      <th>24</th>\n",
       "      <td>1</td>\n",
       "      <td>96</td>\n",
       "      <td>93</td>\n",
       "      <td>95</td>\n",
       "      <td>192</td>\n",
       "    </tr>\n",
       "  </tbody>\n",
       "</table>\n",
       "</div>"
      ],
      "text/plain": [
       "    0   0   1    2    3\n",
       "0   1  73  80   75  152\n",
       "1   1  93  88   93  185\n",
       "2   1  89  91   90  180\n",
       "3   1  96  98  100  196\n",
       "4   1  73  66   70  142\n",
       "5   1  53  46   55  101\n",
       "6   1  69  74   77  149\n",
       "7   1  47  56   60  115\n",
       "8   1  87  79   90  175\n",
       "9   1  79  70   88  164\n",
       "10  1  69  70   73  141\n",
       "11  1  70  65   74  141\n",
       "12  1  93  95   91  184\n",
       "13  1  79  80   73  152\n",
       "14  1  70  73   78  148\n",
       "15  1  93  89   96  192\n",
       "16  1  78  75   68  147\n",
       "17  1  81  90   93  183\n",
       "18  1  88  92   86  177\n",
       "19  1  78  83   77  159\n",
       "20  1  82  86   90  177\n",
       "21  1  86  82   89  175\n",
       "22  1  78  83   85  175\n",
       "23  1  76  83   71  149\n",
       "24  1  96  93   95  192"
      ]
     },
     "execution_count": 120,
     "metadata": {},
     "output_type": "execute_result"
    }
   ],
   "source": [
    "dataset= pd.read_csv(r'D:\\ITI\\numerical_optimization\\labs\\MultipleLR.csv - MultipleLR.csv.csv', header=None)\n",
    "dataset.insert(loc=0,column=\"0\",value=[1,1,1,1,1,1,1,1,1,1,1,1,1,1,1,1,1,1,1,1,1,1,1,1,1,])\n",
    "dataset"
   ]
  },
  {
   "cell_type": "code",
   "execution_count": 121,
   "metadata": {},
   "outputs": [
    {
     "data": {
      "text/html": [
       "<div>\n",
       "<style scoped>\n",
       "    .dataframe tbody tr th:only-of-type {\n",
       "        vertical-align: middle;\n",
       "    }\n",
       "\n",
       "    .dataframe tbody tr th {\n",
       "        vertical-align: top;\n",
       "    }\n",
       "\n",
       "    .dataframe thead th {\n",
       "        text-align: right;\n",
       "    }\n",
       "</style>\n",
       "<table border=\"1\" class=\"dataframe\">\n",
       "  <thead>\n",
       "    <tr style=\"text-align: right;\">\n",
       "      <th></th>\n",
       "      <th>0</th>\n",
       "      <th>1</th>\n",
       "      <th>2</th>\n",
       "      <th>3</th>\n",
       "      <th>4</th>\n",
       "    </tr>\n",
       "  </thead>\n",
       "  <tbody>\n",
       "    <tr>\n",
       "      <th>0</th>\n",
       "      <td>1</td>\n",
       "      <td>73</td>\n",
       "      <td>80</td>\n",
       "      <td>75</td>\n",
       "      <td>152</td>\n",
       "    </tr>\n",
       "    <tr>\n",
       "      <th>1</th>\n",
       "      <td>1</td>\n",
       "      <td>93</td>\n",
       "      <td>88</td>\n",
       "      <td>93</td>\n",
       "      <td>185</td>\n",
       "    </tr>\n",
       "    <tr>\n",
       "      <th>2</th>\n",
       "      <td>1</td>\n",
       "      <td>89</td>\n",
       "      <td>91</td>\n",
       "      <td>90</td>\n",
       "      <td>180</td>\n",
       "    </tr>\n",
       "    <tr>\n",
       "      <th>3</th>\n",
       "      <td>1</td>\n",
       "      <td>96</td>\n",
       "      <td>98</td>\n",
       "      <td>100</td>\n",
       "      <td>196</td>\n",
       "    </tr>\n",
       "    <tr>\n",
       "      <th>4</th>\n",
       "      <td>1</td>\n",
       "      <td>73</td>\n",
       "      <td>66</td>\n",
       "      <td>70</td>\n",
       "      <td>142</td>\n",
       "    </tr>\n",
       "    <tr>\n",
       "      <th>5</th>\n",
       "      <td>1</td>\n",
       "      <td>53</td>\n",
       "      <td>46</td>\n",
       "      <td>55</td>\n",
       "      <td>101</td>\n",
       "    </tr>\n",
       "    <tr>\n",
       "      <th>6</th>\n",
       "      <td>1</td>\n",
       "      <td>69</td>\n",
       "      <td>74</td>\n",
       "      <td>77</td>\n",
       "      <td>149</td>\n",
       "    </tr>\n",
       "    <tr>\n",
       "      <th>7</th>\n",
       "      <td>1</td>\n",
       "      <td>47</td>\n",
       "      <td>56</td>\n",
       "      <td>60</td>\n",
       "      <td>115</td>\n",
       "    </tr>\n",
       "    <tr>\n",
       "      <th>8</th>\n",
       "      <td>1</td>\n",
       "      <td>87</td>\n",
       "      <td>79</td>\n",
       "      <td>90</td>\n",
       "      <td>175</td>\n",
       "    </tr>\n",
       "    <tr>\n",
       "      <th>9</th>\n",
       "      <td>1</td>\n",
       "      <td>79</td>\n",
       "      <td>70</td>\n",
       "      <td>88</td>\n",
       "      <td>164</td>\n",
       "    </tr>\n",
       "    <tr>\n",
       "      <th>10</th>\n",
       "      <td>1</td>\n",
       "      <td>69</td>\n",
       "      <td>70</td>\n",
       "      <td>73</td>\n",
       "      <td>141</td>\n",
       "    </tr>\n",
       "    <tr>\n",
       "      <th>11</th>\n",
       "      <td>1</td>\n",
       "      <td>70</td>\n",
       "      <td>65</td>\n",
       "      <td>74</td>\n",
       "      <td>141</td>\n",
       "    </tr>\n",
       "    <tr>\n",
       "      <th>12</th>\n",
       "      <td>1</td>\n",
       "      <td>93</td>\n",
       "      <td>95</td>\n",
       "      <td>91</td>\n",
       "      <td>184</td>\n",
       "    </tr>\n",
       "    <tr>\n",
       "      <th>13</th>\n",
       "      <td>1</td>\n",
       "      <td>79</td>\n",
       "      <td>80</td>\n",
       "      <td>73</td>\n",
       "      <td>152</td>\n",
       "    </tr>\n",
       "    <tr>\n",
       "      <th>14</th>\n",
       "      <td>1</td>\n",
       "      <td>70</td>\n",
       "      <td>73</td>\n",
       "      <td>78</td>\n",
       "      <td>148</td>\n",
       "    </tr>\n",
       "    <tr>\n",
       "      <th>15</th>\n",
       "      <td>1</td>\n",
       "      <td>93</td>\n",
       "      <td>89</td>\n",
       "      <td>96</td>\n",
       "      <td>192</td>\n",
       "    </tr>\n",
       "    <tr>\n",
       "      <th>16</th>\n",
       "      <td>1</td>\n",
       "      <td>78</td>\n",
       "      <td>75</td>\n",
       "      <td>68</td>\n",
       "      <td>147</td>\n",
       "    </tr>\n",
       "    <tr>\n",
       "      <th>17</th>\n",
       "      <td>1</td>\n",
       "      <td>81</td>\n",
       "      <td>90</td>\n",
       "      <td>93</td>\n",
       "      <td>183</td>\n",
       "    </tr>\n",
       "    <tr>\n",
       "      <th>18</th>\n",
       "      <td>1</td>\n",
       "      <td>88</td>\n",
       "      <td>92</td>\n",
       "      <td>86</td>\n",
       "      <td>177</td>\n",
       "    </tr>\n",
       "    <tr>\n",
       "      <th>19</th>\n",
       "      <td>1</td>\n",
       "      <td>78</td>\n",
       "      <td>83</td>\n",
       "      <td>77</td>\n",
       "      <td>159</td>\n",
       "    </tr>\n",
       "    <tr>\n",
       "      <th>20</th>\n",
       "      <td>1</td>\n",
       "      <td>82</td>\n",
       "      <td>86</td>\n",
       "      <td>90</td>\n",
       "      <td>177</td>\n",
       "    </tr>\n",
       "    <tr>\n",
       "      <th>21</th>\n",
       "      <td>1</td>\n",
       "      <td>86</td>\n",
       "      <td>82</td>\n",
       "      <td>89</td>\n",
       "      <td>175</td>\n",
       "    </tr>\n",
       "    <tr>\n",
       "      <th>22</th>\n",
       "      <td>1</td>\n",
       "      <td>78</td>\n",
       "      <td>83</td>\n",
       "      <td>85</td>\n",
       "      <td>175</td>\n",
       "    </tr>\n",
       "    <tr>\n",
       "      <th>23</th>\n",
       "      <td>1</td>\n",
       "      <td>76</td>\n",
       "      <td>83</td>\n",
       "      <td>71</td>\n",
       "      <td>149</td>\n",
       "    </tr>\n",
       "    <tr>\n",
       "      <th>24</th>\n",
       "      <td>1</td>\n",
       "      <td>96</td>\n",
       "      <td>93</td>\n",
       "      <td>95</td>\n",
       "      <td>192</td>\n",
       "    </tr>\n",
       "  </tbody>\n",
       "</table>\n",
       "</div>"
      ],
      "text/plain": [
       "    0   1   2    3    4\n",
       "0   1  73  80   75  152\n",
       "1   1  93  88   93  185\n",
       "2   1  89  91   90  180\n",
       "3   1  96  98  100  196\n",
       "4   1  73  66   70  142\n",
       "5   1  53  46   55  101\n",
       "6   1  69  74   77  149\n",
       "7   1  47  56   60  115\n",
       "8   1  87  79   90  175\n",
       "9   1  79  70   88  164\n",
       "10  1  69  70   73  141\n",
       "11  1  70  65   74  141\n",
       "12  1  93  95   91  184\n",
       "13  1  79  80   73  152\n",
       "14  1  70  73   78  148\n",
       "15  1  93  89   96  192\n",
       "16  1  78  75   68  147\n",
       "17  1  81  90   93  183\n",
       "18  1  88  92   86  177\n",
       "19  1  78  83   77  159\n",
       "20  1  82  86   90  177\n",
       "21  1  86  82   89  175\n",
       "22  1  78  83   85  175\n",
       "23  1  76  83   71  149\n",
       "24  1  96  93   95  192"
      ]
     },
     "execution_count": 121,
     "metadata": {},
     "output_type": "execute_result"
    }
   ],
   "source": [
    "dataset.columns = ['0','1','2','3','4']\n",
    "dataset"
   ]
  },
  {
   "cell_type": "code",
   "execution_count": 122,
   "metadata": {},
   "outputs": [
    {
     "data": {
      "text/plain": [
       "array([[152],\n",
       "       [185],\n",
       "       [180],\n",
       "       [196],\n",
       "       [142],\n",
       "       [101],\n",
       "       [149],\n",
       "       [115],\n",
       "       [175],\n",
       "       [164],\n",
       "       [141],\n",
       "       [141],\n",
       "       [184],\n",
       "       [152],\n",
       "       [148],\n",
       "       [192],\n",
       "       [147],\n",
       "       [183],\n",
       "       [177],\n",
       "       [159],\n",
       "       [177],\n",
       "       [175],\n",
       "       [175],\n",
       "       [149],\n",
       "       [192]], dtype=int64)"
      ]
     },
     "execution_count": 122,
     "metadata": {},
     "output_type": "execute_result"
    }
   ],
   "source": [
    "numpy_array=dataset.to_numpy()\n",
    "A=numpy_array[:,0:4]\n",
    "Y=numpy_array[:,4].reshape(25,1)\n",
    "Y"
   ]
  },
  {
   "cell_type": "code",
   "execution_count": 123,
   "metadata": {},
   "outputs": [],
   "source": [
    "def batch_adam(A,Y):\n",
    "    alpha=0.001\n",
    "    epochs=800\n",
    "    m=len(Y)\n",
    "    batch_size=m\n",
    "  \n",
    "    B1=0.01\n",
    "    B2=0.01\n",
    "    E=pow(10,-8)\n",
    "\n",
    "    vt = np.zeros((A.shape[1],1))\n",
    "    mt = np.zeros((A.shape[1],1))\n",
    "    count=0\n",
    "\n",
    "    errors=[]\n",
    "    iterations=[]\n",
    "    final_thetas=[]\n",
    "    theta_0=[]\n",
    "    theta_1=[]\n",
    "    theta_2=[]\n",
    "    theta_3=[]\n",
    "\n",
    "    thetas=np.zeros((4,1))\n",
    "    for J in range(epochs):\n",
    "        for i in range(0,m,batch_size):\n",
    "            final_thetas.clear()\n",
    "            A_batch=A[i:i+batch_size,:]\n",
    "            Y_batch=Y[i:i+batch_size]\n",
    "            \n",
    "            hyp=A_batch@thetas\n",
    "        \n",
    "            err=hyp-Y_batch\n",
    "            J=(err.T@err)/(2*len(Y_batch))\n",
    "            #J=(1/2*25)*np.sum(np.power(hyp-Y,2))\n",
    "            errors.append(J[0][0])\n",
    "        \n",
    "            gradient=1/len(Y_batch)*(A_batch.T@err)\n",
    "            equiv_gradient=(np.sqrt(np.sum(np.power((gradient),2))))\n",
    "        \n",
    "        \n",
    "            vt=(B2*vt)+((1-B2)*(pow(gradient,2)))\n",
    "            vt_mod=vt/(1-pow(B2,i+1))\n",
    "            vt_s=np.sqrt(vt_mod)\n",
    "        \n",
    "            mt=(B1*mt)+((1-B1)*gradient)\n",
    "            mt_mod=mt/(1-pow(B1,i+1))\n",
    "        \n",
    "            thetas=thetas-((alpha/(vt_s+E)))*mt_mod\n",
    "            theta_0.append(thetas[-4])\n",
    "            theta_1.append(thetas[-3])\n",
    "            theta_2.append(thetas[-2])\n",
    "            theta_3.append(thetas[-1])\n",
    "        \n",
    "            final_thetas.append(thetas)\n",
    "            iterations.append(count)\n",
    "            count+=1\n",
    "    \n",
    "    \n",
    "            if(i>=2):\n",
    "                if(abs((errors[-2]-errors[-1])<0.00001 or equiv_gradient<0.001)):\n",
    "                    break\n",
    "                                \n",
    "    print(\"number of iterations\",count)   \n",
    "    print(\"the final weights are\",final_thetas)\n",
    "\n",
    "    return final_thetas,iterations,errors,theta_0,theta_1,theta_2,theta_3"
   ]
  },
  {
   "cell_type": "code",
   "execution_count": 124,
   "metadata": {},
   "outputs": [
    {
     "name": "stdout",
     "output_type": "stream",
     "text": [
      "number of iterations 800\n",
      "the final weights are [array([[0.66922148],\n",
      "       [0.66396444],\n",
      "       [0.65996117],\n",
      "       [0.69189193]])]\n"
     ]
    },
    {
     "data": {
      "text/plain": [
       "array([[153.82741444],\n",
       "       [184.84044745],\n",
       "       [182.0887974 ],\n",
       "       [198.27519603],\n",
       "       [141.12849838],\n",
       "       [104.27160712],\n",
       "       [148.59557352],\n",
       "       [110.34689185],\n",
       "       [172.84133446],\n",
       "       [160.20618453],\n",
       "       [143.1881611 ],\n",
       "       [141.24421162],\n",
       "       [188.07639178],\n",
       "       [156.42741722],\n",
       "       [149.29146872],\n",
       "       [187.57608443],\n",
       "       [149.00418725],\n",
       "       [178.1927965 ],\n",
       "       [179.31722639],\n",
       "       [160.51090403],\n",
       "       [174.14124045],\n",
       "       [173.4653616 ],\n",
       "       [166.0460395 ],\n",
       "       [155.03162354],\n",
       "       [191.5159305 ]])"
      ]
     },
     "execution_count": 124,
     "metadata": {},
     "output_type": "execute_result"
    }
   ],
   "source": [
    "final_thetas,iterations,errors,theta_0,theta_1,theta_2,theta_3=batch_adam(A,Y)\n",
    "final_pred_val=A@final_thetas\n",
    "final_pred_val\n",
    "final_pred_val=final_pred_val[0].reshape(-1,1)\n",
    "final_pred_val"
   ]
  },
  {
   "cell_type": "code",
   "execution_count": 125,
   "metadata": {},
   "outputs": [
    {
     "data": {
      "text/plain": [
       "Text(0, 0.5, 'Costs')"
      ]
     },
     "execution_count": 125,
     "metadata": {},
     "output_type": "execute_result"
    },
    {
     "data": {
      "image/png": "[encoded data removed]",
      "text/plain": [
       "<Figure size 432x288 with 1 Axes>"
      ]
     },
     "metadata": {
      "needs_background": "light"
     },
     "output_type": "display_data"
    }
   ],
   "source": [
    "plt.plot(theta_0,errors)\n",
    "plt.title('Loss-theta_0')\n",
    "plt.xlabel('theta_0')\n",
    "plt.ylabel('Costs')"
   ]
  },
  {
   "cell_type": "code",
   "execution_count": 126,
   "metadata": {},
   "outputs": [
    {
     "data": {
      "text/plain": [
       "Text(0, 0.5, 'Costs')"
      ]
     },
     "execution_count": 126,
     "metadata": {},
     "output_type": "execute_result"
    },
    {
     "data": {
      "image/png": "[encoded data removed]",
      "text/plain": [
       "<Figure size 432x288 with 1 Axes>"
      ]
     },
     "metadata": {
      "needs_background": "light"
     },
     "output_type": "display_data"
    }
   ],
   "source": [
    "plt.plot(theta_1,errors)\n",
    "plt.title('Loss-theta_1')\n",
    "plt.xlabel('theta_1')\n",
    "plt.ylabel('Costs')"
   ]
  },
  {
   "cell_type": "code",
   "execution_count": 127,
   "metadata": {},
   "outputs": [
    {
     "data": {
      "text/plain": [
       "Text(0, 0.5, 'Costs')"
      ]
     },
     "execution_count": 127,
     "metadata": {},
     "output_type": "execute_result"
    },
    {
     "data": {
      "image/png": "[encoded data removed]",
      "text/plain": [
       "<Figure size 432x288 with 1 Axes>"
      ]
     },
     "metadata": {
      "needs_background": "light"
     },
     "output_type": "display_data"
    }
   ],
   "source": [
    "plt.plot(theta_2,errors)\n",
    "plt.title('Loss-theta_2')\n",
    "plt.xlabel('theta_2')\n",
    "plt.ylabel('Costs')"
   ]
  },
  {
   "cell_type": "code",
   "execution_count": 128,
   "metadata": {},
   "outputs": [
    {
     "data": {
      "text/plain": [
       "Text(0, 0.5, 'Costs')"
      ]
     },
     "execution_count": 128,
     "metadata": {},
     "output_type": "execute_result"
    },
    {
     "data": {
      "image/png": "[encoded data removed]",
      "text/plain": [
       "<Figure size 432x288 with 1 Axes>"
      ]
     },
     "metadata": {
      "needs_background": "light"
     },
     "output_type": "display_data"
    }
   ],
   "source": [
    "plt.plot(theta_3,errors)\n",
    "plt.title('Loss-theta_3')\n",
    "plt.xlabel('theta_3')\n",
    "plt.ylabel('Costs')"
   ]
  },
  {
   "cell_type": "code",
   "execution_count": 129,
   "metadata": {},
   "outputs": [
    {
     "data": {
      "text/plain": [
       "Text(0, 0.5, 'Costs')"
      ]
     },
     "execution_count": 129,
     "metadata": {},
     "output_type": "execute_result"
    },
    {
     "data": {
      "image/png": "[encoded data removed]",
      "text/plain": [
       "<Figure size 432x288 with 1 Axes>"
      ]
     },
     "metadata": {
      "needs_background": "light"
     },
     "output_type": "display_data"
    }
   ],
   "source": [
    "plt.plot(iterations,errors)\n",
    "plt.title('Loss-Epoch relation')\n",
    "plt.xlabel('Iterations')\n",
    "plt.ylabel('Costs')"
   ]
  },
  {
   "cell_type": "code",
   "execution_count": 130,
   "metadata": {},
   "outputs": [
    {
     "data": {
      "text/plain": [
       "0.9791253417765764"
      ]
     },
     "execution_count": 130,
     "metadata": {},
     "output_type": "execute_result"
    }
   ],
   "source": [
    "from sklearn.metrics import r2_score\n",
    "r2_score(Y,final_pred_val)"
   ]
  },
  {
   "cell_type": "code",
   "execution_count": 131,
   "metadata": {},
   "outputs": [],
   "source": [
    "def mini_batch_adam(A,Y,batch_size):\n",
    "    alpha=0.001\n",
    "    epochs=800\n",
    "    m=len(Y)\n",
    "\n",
    "    B1=0.01\n",
    "    B2=0.01\n",
    "    E=pow(10,-8)\n",
    "\n",
    "    vt = np.zeros((A.shape[1],1))\n",
    "    mt = np.zeros((A.shape[1],1))\n",
    "    count=0\n",
    "\n",
    "    errors=[]\n",
    "    iterations=[]\n",
    "    final_thetas=[]\n",
    "    theta_0=[]\n",
    "    theta_1=[]\n",
    "    theta_2=[]\n",
    "    theta_3=[]\n",
    "\n",
    "    thetas=np.zeros((4,1))\n",
    "    for J in range(epochs):\n",
    "        for i in range(0,m,batch_size):\n",
    "            final_thetas.clear()\n",
    "            A_batch=A[i:i+batch_size,:]\n",
    "            Y_batch=Y[i:i+batch_size]\n",
    "            \n",
    "            hyp=A_batch@thetas\n",
    "        \n",
    "            err=hyp-Y_batch\n",
    "            J=(err.T@err)/(2*len(Y_batch))\n",
    "            #J=(1/2*25)*np.sum(np.power(hyp-Y,2))\n",
    "            errors.append(J[0][0])\n",
    "        \n",
    "            gradient=1/len(Y_batch)*(A_batch.T@err)\n",
    "            equiv_gradient=(np.sqrt(np.sum(np.power((gradient),2))))\n",
    "        \n",
    "        \n",
    "            vt=(B2*vt)+((1-B2)*(pow(gradient,2)))\n",
    "            vt_mod=vt/(1-pow(B2,i+1))\n",
    "            vt_s=np.sqrt(vt_mod)\n",
    "        \n",
    "            mt=(B1*mt)+((1-B1)*gradient)\n",
    "            mt_mod=mt/(1-pow(B1,i+1))\n",
    "        \n",
    "            thetas=thetas-((alpha/(vt_s+E)))*mt_mod\n",
    "            theta_0.append(thetas[-4])\n",
    "            theta_1.append(thetas[-3])\n",
    "            theta_2.append(thetas[-2])\n",
    "            theta_3.append(thetas[-1])\n",
    "        \n",
    "            final_thetas.append(thetas)\n",
    "            iterations.append(count)\n",
    "            count+=1\n",
    "    \n",
    "    \n",
    "            if(i>=2):\n",
    "                if(abs((errors[-2]-errors[-1])<0.00001 or equiv_gradient<0.001)):\n",
    "                    break\n",
    "                                \n",
    "    print(\"number of iterations\",count)   \n",
    "    print(\"the final weights are\",final_thetas)\n",
    "\n",
    "    return final_thetas,iterations,errors,theta_0,theta_1,theta_2,theta_3"
   ]
  },
  {
   "cell_type": "code",
   "execution_count": 132,
   "metadata": {},
   "outputs": [
    {
     "name": "stdout",
     "output_type": "stream",
     "text": [
      "number of iterations 1829\n",
      "the final weights are [array([[0.6787053 ],\n",
      "       [0.6723885 ],\n",
      "       [0.67078272],\n",
      "       [0.675439  ]])]\n"
     ]
    },
    {
     "data": {
      "text/plain": [
       "array([[154.08360834],\n",
       "       [185.05554208],\n",
       "       [182.35201924],\n",
       "       [198.50860779],\n",
       "       [141.31545525],\n",
       "       [104.32044589],\n",
       "       [148.72023605],\n",
       "       [110.37113713],\n",
       "       [172.95784962],\n",
       "       [160.19081918],\n",
       "       [143.33534916],\n",
       "       [141.32926306],\n",
       "       [188.40014311],\n",
       "       [156.7670613 ],\n",
       "       [149.39728083],\n",
       "       [187.75264181],\n",
       "       [149.36356419],\n",
       "       [178.32844557],\n",
       "       [179.64865745],\n",
       "       [160.80877698],\n",
       "       [174.29138618],\n",
       "       [173.62237028],\n",
       "       [166.21228902],\n",
       "       [155.41136597],\n",
       "       [191.77749917]])"
      ]
     },
     "execution_count": 132,
     "metadata": {},
     "output_type": "execute_result"
    }
   ],
   "source": [
    "batch_size=5\n",
    "final_thetas,iterations,errors,theta_0,theta_1,theta_2,theta_3=mini_batch_adam(A,Y,batch_size)\n",
    "final_pred_val=A@final_thetas\n",
    "final_pred_val\n",
    "final_pred_val=final_pred_val[0].reshape(-1,1)\n",
    "final_pred_val"
   ]
  },
  {
   "cell_type": "code",
   "execution_count": 133,
   "metadata": {},
   "outputs": [
    {
     "data": {
      "text/plain": [
       "Text(0, 0.5, 'Costs')"
      ]
     },
     "execution_count": 133,
     "metadata": {},
     "output_type": "execute_result"
    },
    {
     "data": {
      "image/png": "[encoded data removed]",
      "text/plain": [
       "<Figure size 432x288 with 1 Axes>"
      ]
     },
     "metadata": {
      "needs_background": "light"
     },
     "output_type": "display_data"
    }
   ],
   "source": [
    "plt.plot(theta_0,errors)\n",
    "plt.title('Loss-theta_0')\n",
    "plt.xlabel('theta_0')\n",
    "plt.ylabel('Costs')"
   ]
  },
  {
   "cell_type": "code",
   "execution_count": 134,
   "metadata": {},
   "outputs": [
    {
     "data": {
      "text/plain": [
       "Text(0, 0.5, 'Costs')"
      ]
     },
     "execution_count": 134,
     "metadata": {},
     "output_type": "execute_result"
    },
    {
     "data": {
      "image/png": "[encoded data removed]",
      "text/plain": [
       "<Figure size 432x288 with 1 Axes>"
      ]
     },
     "metadata": {
      "needs_background": "light"
     },
     "output_type": "display_data"
    }
   ],
   "source": [
    "plt.plot(theta_1,errors)\n",
    "plt.title('Loss-theta_1')\n",
    "plt.xlabel('theta_1')\n",
    "plt.ylabel('Costs')"
   ]
  },
  {
   "cell_type": "code",
   "execution_count": 135,
   "metadata": {},
   "outputs": [
    {
     "data": {
      "text/plain": [
       "Text(0, 0.5, 'Costs')"
      ]
     },
     "execution_count": 135,
     "metadata": {},
     "output_type": "execute_result"
    },
    {
     "data": {
      "image/png": "[encoded data removed]",
      "text/plain": [
       "<Figure size 432x288 with 1 Axes>"
      ]
     },
     "metadata": {
      "needs_background": "light"
     },
     "output_type": "display_data"
    }
   ],
   "source": [
    "plt.plot(theta_2,errors)\n",
    "plt.title('Loss-theta_2')\n",
    "plt.xlabel('theta_2')\n",
    "plt.ylabel('Costs')"
   ]
  },
  {
   "cell_type": "code",
   "execution_count": 136,
   "metadata": {},
   "outputs": [
    {
     "data": {
      "text/plain": [
       "Text(0, 0.5, 'Costs')"
      ]
     },
     "execution_count": 136,
     "metadata": {},
     "output_type": "execute_result"
    },
    {
     "data": {
      "image/png": "[encoded data removed]",
      "text/plain": [
       "<Figure size 432x288 with 1 Axes>"
      ]
     },
     "metadata": {
      "needs_background": "light"
     },
     "output_type": "display_data"
    }
   ],
   "source": [
    "plt.plot(theta_3,errors)\n",
    "plt.title('Loss-theta_3')\n",
    "plt.xlabel('theta_3')\n",
    "plt.ylabel('Costs')"
   ]
  },
  {
   "cell_type": "code",
   "execution_count": 137,
   "metadata": {},
   "outputs": [
    {
     "data": {
      "text/plain": [
       "Text(0, 0.5, 'Costs')"
      ]
     },
     "execution_count": 137,
     "metadata": {},
     "output_type": "execute_result"
    },
    {
     "data": {
      "image/png": "[encoded data removed]",
      "text/plain": [
       "<Figure size 432x288 with 1 Axes>"
      ]
     },
     "metadata": {
      "needs_background": "light"
     },
     "output_type": "display_data"
    }
   ],
   "source": [
    "plt.plot(iterations,errors)\n",
    "plt.title('Loss-Epoch relation')\n",
    "plt.xlabel('Iterations')\n",
    "plt.ylabel('Costs')"
   ]
  },
  {
   "cell_type": "code",
   "execution_count": 138,
   "metadata": {},
   "outputs": [
    {
     "data": {
      "text/plain": [
       "0.9783206829688866"
      ]
     },
     "execution_count": 138,
     "metadata": {},
     "output_type": "execute_result"
    }
   ],
   "source": [
    "from sklearn.metrics import r2_score\n",
    "r2_score(Y,final_pred_val)"
   ]
  }
 ],
 "metadata": {
  "colab": {
   "name": "NOFML&DS Final Practical Exam.ipynb",
   "provenance": []
  },
  "kernelspec": {
   "display_name": "Python 3",
   "language": "python",
   "name": "python3"
  },
  "language_info": {
   "codemirror_mode": {
    "name": "ipython",
    "version": 3
   },
   "file_extension": ".py",
   "mimetype": "text/x-python",
   "name": "python",
   "nbconvert_exporter": "python",
   "pygments_lexer": "ipython3",
   "version": "3.8.5"
  }
 },
 "nbformat": 4,
 "nbformat_minor": 5
}
