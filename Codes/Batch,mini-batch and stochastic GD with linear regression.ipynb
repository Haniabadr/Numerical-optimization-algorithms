{
 "cells": [
  {
   "cell_type": "markdown",
   "metadata": {},
   "source": [
    "### Generate random data and implement batch mini-batch and stochastic gradient decent with linear regression from scratch"
   ]
  },
  {
   "cell_type": "markdown",
   "metadata": {},
   "source": [
    "#### Import numpy, matplotlib.pyplot and make it inline"
   ]
  },
  {
   "cell_type": "code",
   "execution_count": 1,
   "metadata": {},
   "outputs": [],
   "source": [
    "import numpy as np\n",
    "import pandas as pd\n",
    "import matplotlib.pyplot as plt\n",
    "%matplotlib inline"
   ]
  },
  {
   "cell_type": "markdown",
   "metadata": {},
   "source": [
    "To have a dataset or set of data points, the student must generate a pair of arrays <b>X</b> and <b>y</b> with the values in <b>X</b> equally distributed between <b>0</b> and <b>20</b> and the values in <b>y</b> such that: \n",
    "<b>yi = a*xi + b (and a = -2, b = 1)</b>\n"
   ]
  },
  {
   "cell_type": "code",
   "execution_count": 2,
   "metadata": {},
   "outputs": [
    {
     "data": {
      "text/plain": [
       "50"
      ]
     },
     "execution_count": 2,
     "metadata": {},
     "output_type": "execute_result"
    }
   ],
   "source": [
    "theta_0=0\n",
    "theta_1=0\n",
    "alpha=0.001\n",
    "m=50\n",
    "a=-2\n",
    "b=1\n",
    "x=np.linspace(0,20)\n",
    "x=x.reshape(50,1)\n",
    "y=a*x+b\n",
    "len(x)"
   ]
  },
  {
   "cell_type": "code",
   "execution_count": 3,
   "metadata": {},
   "outputs": [],
   "source": [
    "def ylabel(theta_0,theta_1,x):\n",
    "    H=[]\n",
    "    hyp=np.array(H)\n",
    "    hyp=theta_0+theta_1*x\n",
    "    return hyp\n",
    "#predictions=ylabel(theta_0,theta_1,x)\n",
    "\n",
    "\n",
    "def cost(hyp,y,m):\n",
    "    #print(\"shape of hyp \",np.shape(hyp))\n",
    "    #print(\"shape of y \",np.shape(y))\n",
    "    c=sum(((hyp)-y)**2)\n",
    "    #print(\"shape of c\",np.shape(y))\n",
    "    cost=(1/(2*m))*c\n",
    "    return cost\n",
    "#cost=cost(predictions,y,m)\n",
    "#cost\n",
    "\n",
    "def gradient(hyp,x,y,m):\n",
    "    grad_0=(1/m)*sum((hyp)-y)\n",
    "    grad_1=(1/m)*sum(((hyp)-y)*x)\n",
    "    return grad_0,grad_1\n",
    "\n",
    "#grad0,grad1=gradient(predictions,y,m)\n",
    "#print(\"grad0 is = \",grad0)\n",
    "#print(\"grad1 is = \",grad1)\n",
    "\n",
    "def update(alpha,grad0,grad1):\n",
    "    global theta_0\n",
    "    global theta_1\n",
    "    theta_0=theta_0-(alpha*grad0)\n",
    "    theta_1=theta_1-(alpha*grad1)\n",
    "    return theta_0,theta_1\n",
    "\n",
    "#theta_0,theta_1=update(alpha,grad0,grad1)\n",
    "#print(theta_0)\n",
    "#print(theta_1)\n",
    "\n",
    "\n",
    "\n",
    "\n"
   ]
  },
  {
   "cell_type": "markdown",
   "metadata": {},
   "source": [
    "#### Use your code from practical session 1 and create a function to perform GD for single variable linear regression.\n",
    "#### The function should take the following input parameters:\n",
    "##### Input data (X), Target Labels (y), Learning Rate (alpha), Maximum number of iterations\n",
    "#### The function should return the following:\n",
    "##### All Theta_0 and Theta_1 values till converge, and equivellant Losses, all hypothesis output, and optimum values of Theta_0 and Theta_1\n",
    "#### Note: you can choose any suitable stop criteria."
   ]
  },
  {
   "cell_type": "code",
   "execution_count": 4,
   "metadata": {},
   "outputs": [
    {
     "name": "stdout",
     "output_type": "stream",
     "text": [
      "th0 is =   [array([-0.019]), array([-0.03538712]), array([-0.04951526]), array([-0.06169037]), array([-0.07217699]), array([-0.0812038]), array([-0.08896853]), array([-0.09564212]), array([-0.10137236]), array([-0.10628704]), array([-0.11049661]), array([-0.11409659]), array([-0.11716955]), array([-0.11978687]), array([-0.12201028]), array([-0.12389313]), array([-0.12548157]), array([-0.12681547]), array([-0.12792933]), array([-0.12885294]), array([-0.1296121]), array([-0.13022908]), array([-0.13072314]), array([-0.13111096]), array([-0.13140692]), array([-0.13162348]), array([-0.1317714]), array([-0.13185998]), array([-0.13189728]), array([-0.13189025]), array([-0.13184491]), array([-0.13176645]), array([-0.13165936]), array([-0.13152755]), array([-0.13137435]), array([-0.13120269]), array([-0.13101507]), array([-0.13081366]), array([-0.13060035]), array([-0.13037674]), array([-0.13014426]), array([-0.1299041]), array([-0.12965732]), array([-0.12940483]), array([-0.1291474]), array([-0.12888573]), array([-0.12862039]), array([-0.12835188]), array([-0.12808066]), array([-0.12780709]), array([-0.12753151]), array([-0.12725419]), array([-0.12697538]), array([-0.1266953]), array([-0.12641413]), array([-0.12613202]), array([-0.12584911]), array([-0.12556551]), array([-0.12528135]), array([-0.12499669]), array([-0.12471161]), array([-0.12442619]), array([-0.12414048]), array([-0.12385453]), array([-0.12356837]), array([-0.12328206]), array([-0.12299562]), array([-0.12270907]), array([-0.12242245]), array([-0.12213576]), array([-0.12184904]), array([-0.12156229]), array([-0.12127554]), array([-0.12098878]), array([-0.12070203]), array([-0.1204153]), array([-0.12012859]), array([-0.11984192]), array([-0.11955529]), array([-0.1192687]), array([-0.11898215]), array([-0.11869566]), array([-0.11840922]), array([-0.11812284]), array([-0.11783651]), array([-0.11755025]), array([-0.11726404]), array([-0.11697791]), array([-0.11669183]), array([-0.11640582]), array([-0.11611988]), array([-0.11583401]), array([-0.11554821]), array([-0.11526247]), array([-0.11497681]), array([-0.11469121]), array([-0.11440569]), array([-0.11412024]), array([-0.11383486]), array([-0.11354954])]\n",
      "th1 is =   [array([-0.25938776]), array([-0.48364757]), array([-0.67753709]), array([-0.84516959]), array([-0.99010127]), array([-1.11540668]), array([-1.22374394]), array([-1.3174112]), array([-1.39839531]), array([-1.46841405]), array([-1.52895256]), array([-1.5812948]), array([-1.62655086]), array([-1.66568048]), array([-1.6995134]), array([-1.728767]), array([-1.7540615]), array([-1.77593309]), array([-1.79484538]), array([-1.81119916]), array([-1.82534094]), array([-1.83757033]), array([-1.84814632]), array([-1.85729285]), array([-1.86520352]), array([-1.87204571]), array([-1.87796414]), array([-1.88308391]), array([-1.88751319]), array([-1.8913455]), array([-1.89466169]), array([-1.89753167]), array([-1.90001586]), array([-1.90216652]), array([-1.90402881]), array([-1.9056418]), array([-1.90703925]), array([-1.90825034]), array([-1.90930032]), array([-1.91021101]), array([-1.91100127]), array([-1.91168741]), array([-1.91228353]), array([-1.91280183]), array([-1.91325284]), array([-1.91364568]), array([-1.91398822]), array([-1.91428728]), array([-1.91454874]), array([-1.91477769]), array([-1.91497854]), array([-1.9151551]), array([-1.91531065]), array([-1.91544803]), array([-1.91556971]), array([-1.91567781]), array([-1.91577417]), array([-1.91586039]), array([-1.91593782]), array([-1.91600767]), array([-1.91607095]), array([-1.91612857]), array([-1.91618127]), array([-1.91622974]), array([-1.91627453]), array([-1.91631616]), array([-1.91635504]), array([-1.91639155]), array([-1.916426]), array([-1.91645868]), array([-1.91648983]), array([-1.91651965]), array([-1.91654832]), array([-1.91657599]), array([-1.91660281]), array([-1.91662888]), array([-1.91665431]), array([-1.91667917]), array([-1.91670356]), array([-1.91672753]), array([-1.91675113]), array([-1.91677442]), array([-1.91679744]), array([-1.91682023]), array([-1.9168428]), array([-1.9168652]), array([-1.91688745]), array([-1.91690956]), array([-1.91693156]), array([-1.91695345]), array([-1.91697525]), array([-1.91699698]), array([-1.91701864]), array([-1.91704024]), array([-1.91706178]), array([-1.91708329]), array([-1.91710475]), array([-1.91712617]), array([-1.91714757]), array([-1.91716893])]\n",
      "cost is =   [array([249.8877551]), array([186.82544902]), array([139.68837516]), array([104.45490187]), array([78.11898842]), array([58.43371572]), array([43.71958379]), array([32.72122023]), array([24.50027441]), array([18.35535934]), array([13.76221071]), array([10.32895775]), array([7.76268963]), array([5.84446491]), array([4.41063185]), array([3.33886605]), array([2.53773393]), array([1.93889181]), array([1.49125501]), array([1.15663933]), array([0.90650334]), array([0.71951322]), array([0.57972261]), array([0.47521215]), array([0.39707247]), array([0.33864412]), array([0.29494937]), array([0.26226751]), array([0.23781746]), array([0.21952043]), array([0.20582259]), array([0.19556252]), array([0.18787207]), array([0.18210235]), array([0.17776832]), array([0.17450744]), array([0.17204871]), array([0.17018957]), array([0.16877862]), array([0.16770268]), array([0.16687718]), array([0.16623886]), array([0.16574048]), array([0.16534671]), array([0.16503114]), array([0.16477404]), array([0.16456064]), array([0.16437993]), array([0.16422366]), array([0.16408566]), array([0.16396134]), array([0.16384726]), array([0.16374083]), array([0.16364014]), array([0.16354374]), array([0.16345057]), array([0.16335982]), array([0.16327089]), array([0.16318333]), array([0.16309681]), array([0.16301107]), array([0.16292592]), array([0.16284124]), array([0.16275691]), array([0.16267285]), array([0.16258901]), array([0.16250534]), array([0.16242181]), array([0.16233839]), array([0.16225507]), array([0.16217184]), array([0.16208868]), array([0.16200558]), array([0.16192254]), array([0.16183956]), array([0.16175663]), array([0.16167374]), array([0.16159091]), array([0.16150812]), array([0.16142538]), array([0.16134268]), array([0.16126003]), array([0.16117742]), array([0.16109485]), array([0.16101233]), array([0.16092985]), array([0.16084741]), array([0.16076501]), array([0.16068266]), array([0.16060035]), array([0.16051808]), array([0.16043585]), array([0.16035367]), array([0.16027152]), array([0.16018942]), array([0.16010737]), array([0.16002535]), array([0.15994338]), array([0.15986144]), array([0.15977955])]\n",
      "iterations is =   [0, 1, 2, 3, 4, 5, 6, 7, 8, 9, 10, 11, 12, 13, 14, 15, 16, 17, 18, 19, 20, 21, 22, 23, 24, 25, 26, 27, 28, 29, 30, 31, 32, 33, 34, 35, 36, 37, 38, 39, 40, 41, 42, 43, 44, 45, 46, 47, 48, 49, 50, 51, 52, 53, 54, 55, 56, 57, 58, 59, 60, 61, 62, 63, 64, 65, 66, 67, 68, 69, 70, 71, 72, 73, 74, 75, 76, 77, 78, 79, 80, 81, 82, 83, 84, 85, 86, 87, 88, 89, 90, 91, 92, 93, 94, 95, 96, 97, 98, 99]\n",
      "predictions is =  [[ -0.11383486]\n",
      " [ -0.89634407]\n",
      " [ -1.67885328]\n",
      " [ -2.46136249]\n",
      " [ -3.2438717 ]\n",
      " [ -4.02638091]\n",
      " [ -4.80889012]\n",
      " [ -5.59139934]\n",
      " [ -6.37390855]\n",
      " [ -7.15641776]\n",
      " [ -7.93892697]\n",
      " [ -8.72143618]\n",
      " [ -9.50394539]\n",
      " [-10.2864546 ]\n",
      " [-11.06896382]\n",
      " [-11.85147303]\n",
      " [-12.63398224]\n",
      " [-13.41649145]\n",
      " [-14.19900066]\n",
      " [-14.98150987]\n",
      " [-15.76401908]\n",
      " [-16.5465283 ]\n",
      " [-17.32903751]\n",
      " [-18.11154672]\n",
      " [-18.89405593]\n",
      " [-19.67656514]\n",
      " [-20.45907435]\n",
      " [-21.24158356]\n",
      " [-22.02409278]\n",
      " [-22.80660199]\n",
      " [-23.5891112 ]\n",
      " [-24.37162041]\n",
      " [-25.15412962]\n",
      " [-25.93663883]\n",
      " [-26.71914805]\n",
      " [-27.50165726]\n",
      " [-28.28416647]\n",
      " [-29.06667568]\n",
      " [-29.84918489]\n",
      " [-30.6316941 ]\n",
      " [-31.41420331]\n",
      " [-32.19671253]\n",
      " [-32.97922174]\n",
      " [-33.76173095]\n",
      " [-34.54424016]\n",
      " [-35.32674937]\n",
      " [-36.10925858]\n",
      " [-36.89176779]\n",
      " [-37.67427701]\n",
      " [-38.45678622]]\n"
     ]
    }
   ],
   "source": [
    "epochs=100\n",
    "\n",
    "def batch_gd(x,y,m,alpha,epochs):\n",
    "    global theta_0\n",
    "    global theta_1\n",
    "    iterations=[]\n",
    "    errors=[]\n",
    "    th0=[]\n",
    "    th1=[]\n",
    "    \n",
    "    for i in range(epochs):\n",
    "        predictions=ylabel(theta_0,theta_1,x)\n",
    "        cost_val=cost(predictions,y,m)\n",
    "        errors.append(cost_val)\n",
    "        grad0,grad1=gradient(predictions,x,y,m)\n",
    "        theta_0,theta_1=update(alpha,grad0,grad1)\n",
    "        iterations.append(i)\n",
    "        th0.append(theta_0)\n",
    "        th1.append(theta_1)\n",
    "    return th0,th1,theta_0,theta_1,errors,iterations,predictions\n",
    "    \n",
    "\n",
    "th0,th1,theta_0,theta_1,cost,iterations,predictions=batch_gd(x,y,m,alpha,epochs)\n",
    "\n",
    "print(\"th0 is =  \",th0)\n",
    "print(\"th1 is =  \",th1)\n",
    "print(\"cost is =  \" , cost)\n",
    "print(\"iterations is =  \",iterations)\n",
    "print(\"predictions is = \",predictions)\n",
    "\n",
    "\n",
    "\n",
    "    \n",
    "    \n",
    "    \n",
    "    "
   ]
  },
  {
   "cell_type": "markdown",
   "metadata": {},
   "source": [
    "#### Calculate r2 score"
   ]
  },
  {
   "cell_type": "code",
   "execution_count": 35,
   "metadata": {},
   "outputs": [],
   "source": [
    "from sklearn.metrics import r2_score"
   ]
  },
  {
   "cell_type": "code",
   "execution_count": 36,
   "metadata": {},
   "outputs": [
    {
     "data": {
      "text/plain": [
       "0.9976984742382373"
      ]
     },
     "execution_count": 36,
     "metadata": {},
     "output_type": "execute_result"
    }
   ],
   "source": [
    "y_pred = theta_0 + theta_1*x\n",
    "r2_score(y,y_pred)"
   ]
  },
  {
   "cell_type": "markdown",
   "metadata": {},
   "source": [
    "#### Plot loss vs. epochs"
   ]
  },
  {
   "cell_type": "code",
   "execution_count": 37,
   "metadata": {},
   "outputs": [
    {
     "data": {
      "text/plain": [
       "Text(0, 0.5, 'Costs')"
      ]
     },
     "execution_count": 37,
     "metadata": {},
     "output_type": "execute_result"
    },
    {
     "data": {
      "image/png": "[encoded data removed]",
      "text/plain": [
       "<Figure size 432x288 with 1 Axes>"
      ]
     },
     "metadata": {
      "needs_background": "light"
     },
     "output_type": "display_data"
    }
   ],
   "source": [
    "plt.plot(iterations,cost)\n",
    "plt.title('Loss-Epoch relation')\n",
    "plt.xlabel('Iterations')\n",
    "plt.ylabel('Costs')"
   ]
  },
  {
   "cell_type": "code",
   "execution_count": null,
   "metadata": {
    "scrolled": false
   },
   "outputs": [],
   "source": []
  },
  {
   "cell_type": "markdown",
   "metadata": {},
   "source": [
    "#### Plot Theta_0 vs. loss and Theta_1 vs. loss"
   ]
  },
  {
   "cell_type": "code",
   "execution_count": 38,
   "metadata": {},
   "outputs": [
    {
     "data": {
      "text/plain": [
       "Text(0, 0.5, 'Costs')"
      ]
     },
     "execution_count": 38,
     "metadata": {},
     "output_type": "execute_result"
    },
    {
     "data": {
      "image/png": "[encoded data removed]",
      "text/plain": [
       "<Figure size 432x288 with 1 Axes>"
      ]
     },
     "metadata": {
      "needs_background": "light"
     },
     "output_type": "display_data"
    }
   ],
   "source": [
    "plt.plot(th0,cost)\n",
    "plt.title('theta_0 loss')\n",
    "plt.xlabel('theta_0')\n",
    "plt.ylabel('Costs')"
   ]
  },
  {
   "cell_type": "code",
   "execution_count": 39,
   "metadata": {},
   "outputs": [
    {
     "data": {
      "text/plain": [
       "Text(0, 0.5, 'Costs')"
      ]
     },
     "execution_count": 39,
     "metadata": {},
     "output_type": "execute_result"
    },
    {
     "data": {
      "image/png": "[encoded data removed]",
      "text/plain": [
       "<Figure size 432x288 with 1 Axes>"
      ]
     },
     "metadata": {
      "needs_background": "light"
     },
     "output_type": "display_data"
    }
   ],
   "source": [
    "plt.plot(th1,cost)\n",
    "plt.title('theta_1 loss')\n",
    "plt.xlabel('theta_1')\n",
    "plt.ylabel('Costs')"
   ]
  },
  {
   "cell_type": "markdown",
   "metadata": {},
   "source": [
    "#### Plot all regression lines till converge"
   ]
  },
  {
   "cell_type": "code",
   "execution_count": 40,
   "metadata": {},
   "outputs": [
    {
     "data": {
      "text/plain": [
       "[<matplotlib.lines.Line2D at 0x1a3e289a040>]"
      ]
     },
     "execution_count": 40,
     "metadata": {},
     "output_type": "execute_result"
    },
    {
     "data": {
      "image/png": "[encoded data removed]",
      "text/plain": [
       "<Figure size 432x288 with 1 Axes>"
      ]
     },
     "metadata": {
      "needs_background": "light"
     },
     "output_type": "display_data"
    }
   ],
   "source": [
    "plt.scatter(x,y)\n",
    "plt.plot(x,th0[0]+th1[0]*x, color=\"b\")\n",
    "\n",
    "plt.scatter(x,y,color=\"r\")\n",
    "plt.plot(x,th0[-1]+th1[-1]*x,color=\"g\")\n"
   ]
  },
  {
   "cell_type": "markdown",
   "metadata": {},
   "source": [
    "#### Update the implementation of the Batch GD to be Mini-Batch and repeat the above plots and evaluations\n"
   ]
  },
  {
   "cell_type": "code",
   "execution_count": 12,
   "metadata": {},
   "outputs": [],
   "source": [
    "\n",
    "def mini_batch(X,Y):\n",
    "    m=len(X)\n",
    "    alpha=0.001\n",
    "    epochs=30\n",
    "    batch_size=10\n",
    "    theta_0=0\n",
    "    theta_1=0\n",
    "    losses=[]\n",
    "    iterations=[]\n",
    "    predictions=[]\n",
    "    thetas_0=[]\n",
    "    thetas_1=[]\n",
    "    count=0\n",
    "\n",
    "    \n",
    "    for j in range(epochs):\n",
    "        \n",
    "        for i in range(0,m,batch_size):\n",
    "            \n",
    "            x_batch=X[i:i+batch_size]\n",
    "            y_batch=Y[i:i+batch_size]\n",
    "            \n",
    "            thetas_0.append(theta_0)\n",
    "            thetas_1.append(theta_1)\n",
    "            hyp=theta_0+theta_1*x_batch\n",
    "            c=sum(((hyp)-y_batch)**2)\n",
    "            cost=(1/(2*len(x_batch)))*c\n",
    "            grad_1=(1/batch_size)*sum(theta_0+theta_1*x_batch-y_batch)\n",
    "            grad_2=(1/batch_size)*sum((theta_0+theta_1*x_batch-y_batch)*x_batch)\n",
    "            theta_0=theta_0-(alpha*grad_1)\n",
    "            theta_1=theta_1-(alpha*grad_2)\n",
    "            losses.append(cost)\n",
    "            iterations.append(count)\n",
    "            predictions.append(hyp)\n",
    "            count+=1\n",
    "    return losses,iterations,predictions,thetas_0,thetas_1\n",
    "\n",
    "losses,iterations,predictions,thetas_0,thetas_1=mini_batch(x,y)\n",
    "\n",
    "\n",
    "\n",
    "            \n",
    "            \n",
    "\n",
    "\n",
    "        \n",
    "        "
   ]
  },
  {
   "cell_type": "code",
   "execution_count": 13,
   "metadata": {},
   "outputs": [
    {
     "name": "stdout",
     "output_type": "stream",
     "text": [
      "[array([6.32257393]), array([60.92619486]), array([168.9711267]), array([277.72980883]), array([301.78398019]), array([0.86821451]), array([11.15939542]), array([34.29029597]), array([59.03604843]), array([66.1616244]), array([0.18642605]), array([1.67894946]), array([6.64153278]), array([12.67328144]), array([15.15168327]), array([0.25671996]), array([0.14347945]), array([1.15325506]), array([2.77970783]), array([3.78381241]), array([0.36910279]), array([0.03184022]), array([0.15218995]), array([0.63895009]), array([1.10536232]), array([0.43696471]), array([0.10527324]), array([0.01257178]), array([0.16235776]), array([0.4112911]), array([0.47096106]), array([0.16495795]), array([0.01582317]), array([0.05027215]), array([0.20552451]), array([0.48659508]), array([0.19755287]), array([0.03143642]), array([0.02130746]), array([0.13478926]), array([0.49321356]), array([0.21334548]), array([0.04151465]), array([0.0127457]), array([0.10723621]), array([0.49557402]), array([0.22051097]), array([0.04669347]), array([0.00980597]), array([0.09553465]), array([0.49595736]), array([0.22352685]), array([0.04912814]), array([0.00865715]), array([0.09026929]), array([0.49543039]), array([0.22459982]), array([0.0501998]), array([0.00816364]), array([0.08777994]), array([0.49448668]), array([0.22477411]), array([0.05062455]), array([0.00793568]), array([0.08652678]), array([0.49335349]), array([0.22453535]), array([0.0507482]), array([0.00782212]), array([0.08583298]), array([0.49213519]), array([0.22410764]), array([0.050733]), array([0.00775951]), array([0.08539433]), array([0.49087969]), array([0.22359404]), array([0.05065411]), array([0.00771995]), array([0.08507264]), array([0.48960896]), array([0.22304189]), array([0.05054616]), array([0.00769092]), array([0.08480482]), array([0.48833306]), array([0.22247288]), array([0.05042508]), array([0.00766673]), array([0.08456201]), array([0.48705661]), array([0.22189696]), array([0.05029815]), array([0.0076448]), array([0.08433097]), array([0.48578172]), array([0.22131871]), array([0.05016872]), array([0.00762392]), array([0.08410564]), array([0.48450935]), array([0.2207402]), array([0.05003835]), array([0.00760355]), array([0.08388325]), array([0.48323994]), array([0.22016241]), array([0.04990772]), array([0.00758344]), array([0.08366251]), array([0.48197369]), array([0.21958576]), array([0.04977716]), array([0.00756349]), array([0.08344284]), array([0.48071068]), array([0.21901044]), array([0.04964681]), array([0.00754363]), array([0.08322398]), array([0.47945093]), array([0.21843656]), array([0.04951676]), array([0.00752384]), array([0.08300579]), array([0.47819448]), array([0.21786415]), array([0.04938701]), array([0.00750412]), array([0.08278822]), array([0.47694131]), array([0.21729322]), array([0.0492576]), array([0.00748445]), array([0.08257124]), array([0.47569141]), array([0.21672377]), array([0.04912851]), array([0.00746483]), array([0.08235485]), array([0.4744448]), array([0.21615582]), array([0.04899977]), array([0.00744527]), array([0.08213902]), array([0.47320145]), array([0.21558935]), array([0.04887136]), array([0.00742576]), array([0.08192376])]\n"
     ]
    },
    {
     "data": {
      "image/png": "[encoded data removed]",
      "text/plain": [
       "<Figure size 432x288 with 1 Axes>"
      ]
     },
     "metadata": {
      "needs_background": "light"
     },
     "output_type": "display_data"
    }
   ],
   "source": [
    "plt.plot(iterations,losses)\n",
    "plt.title('Loss-Iteration relation')\n",
    "plt.xlabel('iterations')\n",
    "plt.ylabel('Costs')\n",
    "print(losses)"
   ]
  },
  {
   "cell_type": "code",
   "execution_count": 14,
   "metadata": {},
   "outputs": [
    {
     "data": {
      "text/plain": [
       "[<matplotlib.lines.Line2D at 0x1ef205a1700>]"
      ]
     },
     "execution_count": 14,
     "metadata": {},
     "output_type": "execute_result"
    },
    {
     "data": {
      "image/png": "[encoded data removed]",
      "text/plain": [
       "<Figure size 432x288 with 1 Axes>"
      ]
     },
     "metadata": {
      "needs_background": "light"
     },
     "output_type": "display_data"
    }
   ],
   "source": [
    "plt.scatter(x,y,color=\"r\")\n",
    "plt.plot(x,thetas_0[-1]+thetas_1[-1]*x,color=\"g\")"
   ]
  },
  {
   "cell_type": "code",
   "execution_count": 17,
   "metadata": {},
   "outputs": [
    {
     "data": {
      "text/plain": [
       "Text(0, 0.5, 'Costs')"
      ]
     },
     "execution_count": 17,
     "metadata": {},
     "output_type": "execute_result"
    },
    {
     "data": {
      "image/png": "[encoded data removed]",
      "text/plain": [
       "<Figure size 432x288 with 1 Axes>"
      ]
     },
     "metadata": {
      "needs_background": "light"
     },
     "output_type": "display_data"
    }
   ],
   "source": [
    "plt.plot(thetas_0,losses)\n",
    "plt.title('theta_0 loss')\n",
    "plt.xlabel('theta_0')\n",
    "plt.ylabel('Costs')"
   ]
  },
  {
   "cell_type": "code",
   "execution_count": 18,
   "metadata": {},
   "outputs": [
    {
     "data": {
      "text/plain": [
       "[0,\n",
       " array([-0.00765931]),\n",
       " array([-0.07424931]),\n",
       " array([-0.25933656]),\n",
       " array([-0.59236116]),\n",
       " array([-1.03951621]),\n",
       " array([-1.04209349]),\n",
       " array([-1.07056862]),\n",
       " array([-1.15393948]),\n",
       " array([-1.30747591]),\n",
       " array([-1.51684208]),\n",
       " array([-1.51708729]),\n",
       " array([-1.52806559]),\n",
       " array([-1.56473776]),\n",
       " array([-1.6358654]),\n",
       " array([-1.73605081]),\n",
       " array([-1.73522654]),\n",
       " array([-1.73817431]),\n",
       " array([-1.75340793]),\n",
       " array([-1.7866986]),\n",
       " array([-1.8367508]),\n",
       " array([-1.83543672]),\n",
       " array([-1.8347002]),\n",
       " array([-1.8400929]),\n",
       " array([-1.85601074]),\n",
       " array([-1.88304009]),\n",
       " array([-1.88150235]),\n",
       " array([-1.87907701]),\n",
       " array([-1.87995357]),\n",
       " array([-1.88789424]),\n",
       " array([-1.90434785]),\n",
       " array([-1.90270866]),\n",
       " array([-1.89951067]),\n",
       " array([-1.89831585]),\n",
       " array([-1.90259314]),\n",
       " array([-1.91418584]),\n",
       " array([-1.91250129]),\n",
       " array([-1.90895129]),\n",
       " array([-1.90680753]),\n",
       " array([-1.90940204]),\n",
       " array([-1.91875767]),\n",
       " array([-1.91705351]),\n",
       " array([-1.91334462]),\n",
       " array([-1.91076727]),\n",
       " array([-1.91258835]),\n",
       " array([-1.92091158]),\n",
       " array([-1.91919964]),\n",
       " array([-1.91542053]),\n",
       " array([-1.9126462]),\n",
       " array([-1.91411134]),\n",
       " array([-1.9219553]),\n",
       " array([-1.920241]),\n",
       " array([-1.91643237]),\n",
       " array([-1.91356968]),\n",
       " array([-1.91487058]),\n",
       " array([-1.92248921]),\n",
       " array([-1.92077506]),\n",
       " array([-1.91695559]),\n",
       " array([-1.91405442]),\n",
       " array([-1.91527908]),\n",
       " array([-1.922789]),\n",
       " array([-1.92107612]),\n",
       " array([-1.91725439]),\n",
       " array([-1.91433763]),\n",
       " array([-1.91552648]),\n",
       " array([-1.92298121]),\n",
       " array([-1.92127014]),\n",
       " array([-1.91745008]),\n",
       " array([-1.91452824]),\n",
       " array([-1.91569982]),\n",
       " array([-1.92312397]),\n",
       " array([-1.92141493]),\n",
       " array([-1.91759836]),\n",
       " array([-1.91467626]),\n",
       " array([-1.91583909]),\n",
       " array([-1.92324394]),\n",
       " array([-1.92153705]),\n",
       " array([-1.91772478]),\n",
       " array([-1.91480464]),\n",
       " array([-1.91596263]),\n",
       " array([-1.92335339]),\n",
       " array([-1.9216487]),\n",
       " array([-1.9178411]),\n",
       " array([-1.91492392]),\n",
       " array([-1.91607887]),\n",
       " array([-1.92345793]),\n",
       " array([-1.92175545]),\n",
       " array([-1.9179527]),\n",
       " array([-1.91503895]),\n",
       " array([-1.91619169]),\n",
       " array([-1.92356015]),\n",
       " array([-1.92185989]),\n",
       " array([-1.91806206]),\n",
       " array([-1.91515195]),\n",
       " array([-1.91630285]),\n",
       " array([-1.92366123]),\n",
       " array([-1.9219632]),\n",
       " array([-1.91817031]),\n",
       " array([-1.91526393]),\n",
       " array([-1.91641318]),\n",
       " array([-1.92376171]),\n",
       " array([-1.92206591]),\n",
       " array([-1.91827798]),\n",
       " array([-1.91537537]),\n",
       " array([-1.91652305]),\n",
       " array([-1.92386185]),\n",
       " array([-1.92216827]),\n",
       " array([-1.9183853]),\n",
       " array([-1.91548649]),\n",
       " array([-1.91663263]),\n",
       " array([-1.92396177]),\n",
       " array([-1.9222704]),\n",
       " array([-1.91849239]),\n",
       " array([-1.91559737]),\n",
       " array([-1.91674199]),\n",
       " array([-1.9240615]),\n",
       " array([-1.92237236]),\n",
       " array([-1.9185993]),\n",
       " array([-1.91570807]),\n",
       " array([-1.91685119]),\n",
       " array([-1.92416109]),\n",
       " array([-1.92247416]),\n",
       " array([-1.91870605]),\n",
       " array([-1.91581861]),\n",
       " array([-1.91696022]),\n",
       " array([-1.92426054]),\n",
       " array([-1.92257582]),\n",
       " array([-1.91881265]),\n",
       " array([-1.91592899]),\n",
       " array([-1.91706911]),\n",
       " array([-1.92435985]),\n",
       " array([-1.92267734]),\n",
       " array([-1.9189191]),\n",
       " array([-1.91603923]),\n",
       " array([-1.91717785]),\n",
       " array([-1.92445903]),\n",
       " array([-1.92277873]),\n",
       " array([-1.91902541]),\n",
       " array([-1.91614932]),\n",
       " array([-1.91728644]),\n",
       " array([-1.92455808]),\n",
       " array([-1.92287998]),\n",
       " array([-1.91913159]),\n",
       " array([-1.91625926]),\n",
       " array([-1.9173949]),\n",
       " array([-1.924657]),\n",
       " array([-1.9229811]),\n",
       " array([-1.91923762]),\n",
       " array([-1.91636906]),\n",
       " array([-1.91750321])]"
      ]
     },
     "execution_count": 18,
     "metadata": {},
     "output_type": "execute_result"
    }
   ],
   "source": [
    "thetas_1"
   ]
  },
  {
   "cell_type": "markdown",
   "metadata": {},
   "source": [
    "## Stochastic GD"
   ]
  },
  {
   "cell_type": "markdown",
   "metadata": {},
   "source": [
    "#### Update the implementation of the Batch GD to beStochastic and rpeat the above plots and evaluations\n",
    "#### You can try different learning rate and see its effect.\n",
    "#### Compare to Batch and Mini-Batch GD\n",
    "### Note: Try once without shuffling the data and once with shuffle and see the effect on the output."
   ]
  },
  {
   "cell_type": "code",
   "execution_count": 4,
   "metadata": {},
   "outputs": [],
   "source": [
    "theta_0=0\n",
    "theta_1=0\n",
    "m=1\n",
    "epochs=30\n",
    "alpha=0.0001 \n",
    "\n",
    "def SGD(x,y,m,alpha,epochs):\n",
    "    global theta_0\n",
    "    global theta_1\n",
    "    iterations=[]\n",
    "    errors=[]\n",
    "    th0=[]\n",
    "    th1=[]\n",
    "    predictions=[]\n",
    "    count=0\n",
    "    \n",
    "    for j in range(epochs):\n",
    "        for i in range(len(x)):\n",
    "            predictions.append(ylabel(theta_0,theta_1,x[i]))\n",
    "            errors.append(cost(predictions[-1],y[i],m))\n",
    "            grad0,grad1=gradient(predictions[-1],x[i],y[i],m)\n",
    "            theta_0,theta_1=update(alpha,grad0,grad1)\n",
    "            iterations.append(count)\n",
    "            th0.append(theta_0)\n",
    "            th1.append(theta_1)\n",
    "            count+=1\n",
    "            \n",
    "    return th0,th1,theta_0,theta_1,errors,iterations,predictions\n",
    "\n",
    "th0,th1,theta_0,theta_1,cost,iterations,predictions=SGD(x,y,m,alpha,epochs)\n",
    "    "
   ]
  },
  {
   "cell_type": "code",
   "execution_count": 5,
   "metadata": {},
   "outputs": [
    {
     "name": "stdout",
     "output_type": "stream",
     "text": [
      "(50, 1)\n"
     ]
    },
    {
     "data": {
      "image/png": "[encoded data removed]",
      "text/plain": [
       "<Figure size 432x288 with 1 Axes>"
      ]
     },
     "metadata": {
      "needs_background": "light"
     },
     "output_type": "display_data"
    }
   ],
   "source": [
    "\n",
    "plt.plot(iterations,cost)\n",
    "plt.title('Loss-Epoch relation')\n",
    "plt.xlabel('iterations')\n",
    "plt.ylabel('Costs')\n",
    "print(x.shape)"
   ]
  },
  {
   "cell_type": "code",
   "execution_count": 6,
   "metadata": {},
   "outputs": [
    {
     "data": {
      "text/plain": [
       "[<matplotlib.lines.Line2D at 0x29e859127f0>]"
      ]
     },
     "execution_count": 6,
     "metadata": {},
     "output_type": "execute_result"
    },
    {
     "data": {
      "image/png": "[encoded data removed]",
      "text/plain": [
       "<Figure size 432x288 with 1 Axes>"
      ]
     },
     "metadata": {
      "needs_background": "light"
     },
     "output_type": "display_data"
    }
   ],
   "source": [
    "plt.scatter(x,y,color=\"r\")\n",
    "plt.plot(x,th0[-1]+th1[-1]*x,color=\"g\")"
   ]
  },
  {
   "cell_type": "code",
   "execution_count": 7,
   "metadata": {},
   "outputs": [
    {
     "data": {
      "text/plain": [
       "Text(0, 0.5, 'Costs')"
      ]
     },
     "execution_count": 7,
     "metadata": {},
     "output_type": "execute_result"
    },
    {
     "data": {
      "image/png": "[encoded data removed]",
      "text/plain": [
       "<Figure size 432x288 with 1 Axes>"
      ]
     },
     "metadata": {
      "needs_background": "light"
     },
     "output_type": "display_data"
    }
   ],
   "source": [
    "plt.plot(th0,cost)\n",
    "plt.title('theta_0 loss')\n",
    "plt.xlabel('theta_0')\n",
    "plt.ylabel('Costs')"
   ]
  }
 ],
 "metadata": {
  "kernelspec": {
   "display_name": "Python 3",
   "language": "python",
   "name": "python3"
  },
  "language_info": {
   "codemirror_mode": {
    "name": "ipython",
    "version": 3
   },
   "file_extension": ".py",
   "mimetype": "text/x-python",
   "name": "python",
   "nbconvert_exporter": "python",
   "pygments_lexer": "ipython3",
   "version": "3.8.5"
  }
 },
 "nbformat": 4,
 "nbformat_minor": 4
}
